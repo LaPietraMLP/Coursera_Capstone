{
 "cells": [
  {
   "cell_type": "markdown",
   "metadata": {},
   "source": [
    "# The Battle of Neighbourhoods : Buenos Aires - Coursera Capstone Project"
   ]
  },
  {
   "cell_type": "markdown",
   "metadata": {},
   "source": [
    "## 1. Introduction/Business Understanding"
   ]
  },
  {
   "cell_type": "markdown",
   "metadata": {},
   "source": [
    "#### 1.1 Background"
   ]
  },
  {
   "cell_type": "markdown",
   "metadata": {},
   "source": [
    "Buenos Aires is the capital and largest city of Argentina. The city is located on the western shore of the estuary of the Río de la Plata, on the South American continent's southeastern coast.\n",
    "Buenos Aires' quality of life was ranked 91st in the world in 2018, being one of the best in Latin America.In 2012, it was the most visited city in South America, and the second-most visited city of Latin America (behind Mexico City).\n",
    "\n",
    "It is known for its preserved European architecture and rich cultural life. Buenos Aires is a multicultural city, being home to multiple ethnic and religious groups. \n",
    "\n",
    "Several languages are spoken in the city in addition to Spanish, contributing to its culture and the dialect spoken in the city and in some other parts of the country. This is because since the 19th century the city, and the country in general, has been a major recipient of millions of immigrants from all over the world, making it a melting pot where several ethnic groups live together and being considered one of the most diverse cities of the Americas.\n",
    "\n",
    "According to the World Travel & Tourism Council, tourism has been growing in the Argentine capital since 2002. In a survey by the travel and tourism publication Travel + Leisure Magazine in 2008, visitors voted Buenos Aires the second most desirable city to visit after Florence, Italy. In 2008, an estimated 2.5 million visitors visited the city.\n",
    "\n",
    "As an argentinian future engineer who is extremely interested in travelling and knowing new cultures, I believe that Buenos Aires is a truly wonderful location for international tourists to visit."
   ]
  },
  {
   "cell_type": "markdown",
   "metadata": {},
   "source": [
    "#### 1.2 Problem Description:"
   ]
  },
  {
   "cell_type": "markdown",
   "metadata": {},
   "source": [
    "Global tourism activity has shown sustained growth in recent years decades, both in terms of the movement of people and the volume of foreign exchange. From 1990 to the present, the number of international travelers has grown on average 4.1% annually, estimating that in 2015 it would be around 1,180 million, tripling the number of international tourists since then.\n",
    "\n",
    "In terms of annual generation of income from international tourism, the figures are significant as they reach USD 1,350 billion. Average annual growth stands at 6.7% for the 25-year period, which implies that the volume of international tourism spending was increased by a figure of six.\n",
    "\n",
    "Moreover, various estimates indicate that globally tourism explains 9% of global GDP2, generates 1 in 11 jobs, is responsible for 6% of total exports, and 30% of service exports.\n",
    "\n",
    "A similar scenario to the international one has been verified in Argentina where the activity tourism has recorded significant growth over the last 25 years, with the arrival of numerous investments and the creation of jobs, where in particular, the City of Buenos Aires (CABA) has positioned itself as one of the most important tourist destinations within the region and the country.\n",
    "\n",
    "Thus, tourism has come to present significant relevance within the economic sphere of the City, reason why it is extremely important to be able to quantify the economic impact this activity generates. \n",
    "\n",
    "As a consequence, the objective of this document is to estimate the impact of the offer of the activities related to tourism, and the distribution of the venues, hotels/hostels and important places of the capital city of Argentina.\n",
    "\n",
    "Airbnb is a booming industry with the latest rise in tourism worldwide. Over 20% of the total tourists worldwide are aged between 19-25. And around 80% of them prefer to spend less on accomodation by opting for hostels. This means the demand for hostels and other accomodations is only going to grow further and more people would want to invest in this platform.\n",
    "\n",
    "- How should a new business person decide where to open a particular accomodation?\n",
    "- What factors should he look at before investing?\n",
    "- Which neighborhood venues affect a user's rating for *location* of hostel?\n",
    "\n",
    "At the same time, it is difficult for a travellers, especially first-timers, to select a hostel from among many options. Hostel reviews are subjective and differ from person-to-person and one cannot solely depend on them to make a decision. It is especially important to consider other aspects like price and neighborhood, which can greatly influence one's experience of the city/country.\n",
    "I will try to answer the following questions:\n",
    "\n",
    "- 1) What is the determining factor / price of a publication?\n",
    "- 2) What is the percentage of occupation of the apartments?\n",
    "- 3) What is the average income of a host at AirBnB in Buenos Aires?\n",
    "- 4) Is there seasonality in reviews?\n",
    "- 5) Which neighborhood / neighborhoods dominate the AirBnB platform in BsAs?\n",
    "- 6) How does proximity to transportation affect hostel rating?"
   ]
  },
  {
   "cell_type": "markdown",
   "metadata": {},
   "source": [
    "#### 1.3 Target Audience"
   ]
  },
  {
   "cell_type": "markdown",
   "metadata": {},
   "source": [
    "This project will be useful for two groups of audience:\n",
    "\n",
    "1. **Travellers:** Help them make an informed decision while choosing a particular accomodation by providing an in-depth analysis of hostels and their neighborhood.\n",
    "\n",
    "2. **Business Person:** Provide useful information and models which can help them where to open their first/next business related to tourism and hosting travellers."
   ]
  },
  {
   "cell_type": "markdown",
   "metadata": {},
   "source": [
    "## 2. Analytic Approach\n",
    "I will be taking two approaches in the project."
   ]
  },
  {
   "cell_type": "markdown",
   "metadata": {},
   "source": [
    "Firstly, I will use *exploratory data analysis(EDA)* to uncover hidden properties of data and provide useful insights to the reader, both future travellers and investors.\n",
    "\n",
    "Secondly, I will use *prescriptive analytics* to help a business person decide a location for new hostel. I will use *clustering* (KMeans).\n",
    "\n",
    "Lastly, the Pycaret library will be used to try to excell the clustering model, and achieve the best possible outcome of the project."
   ]
  },
  {
   "cell_type": "markdown",
   "metadata": {},
   "source": [
    "## 3. Data Requirements"
   ]
  },
  {
   "cell_type": "markdown",
   "metadata": {},
   "source": [
    "One city will be analysed in this project : **Buenos Aires**."
   ]
  },
  {
   "cell_type": "markdown",
   "metadata": {},
   "source": [
    "Following are the datasets used in the project along with the reasons for choosing them:\n",
    "\n",
    "**1. [Airbnb Buenos Aires listings](http://insideairbnb.com/get-the-data.html)**: This dataset was downloaded from the Airbnb webpage. This is the core dataset with which I'll work.\n",
    "\n",
    "**2. [Airbnb Buenos Aires reviews](http://insideairbnb.com/get-the-data.html)**: Also from the Airbnb webpage, in order to analyse the reviews in Buenos Aires.\n",
    "\n",
    "**3. [Foursquare API](https://developer.foursquare.com/docs/api)**: This API will help me get the venues around the hostel which I will use for EDA and clustering.\n",
    "\n",
    "**4. [Buenos Aires Neighborhoods](http://cdn.buenosaires.gob.ar/datosabiertos/datasets/barrios/barrios.geojson)**: This geojson file will help me get the location of the neighborhoods which I will use for EDA and clustering."
   ]
  },
  {
   "cell_type": "markdown",
   "metadata": {},
   "source": [
    "Firstly, I will use the list of Airbnb posts from *listings dataset* and use *Foursquare API* to get venues around the accomodations. I will then use EDA to explore the neighborhood and how it affects the price of the hostel or hotel. I will also use the reviews dataset to analyse seasonality and tendencies regaring tourism in Buenos Aires.\n",
    "\n",
    "Second, I will combine the above data with the nieghborhood geolocation and develop clustering models to better understand the ideal place to be a host, or the cheaper and most enjoyable place to stay."
   ]
  },
  {
   "cell_type": "code",
   "execution_count": null,
   "metadata": {},
   "outputs": [],
   "source": []
  }
 ],
 "metadata": {
  "kernelspec": {
   "display_name": "Python 3",
   "language": "python",
   "name": "python3"
  },
  "language_info": {
   "codemirror_mode": {
    "name": "ipython",
    "version": 3
   },
   "file_extension": ".py",
   "mimetype": "text/x-python",
   "name": "python",
   "nbconvert_exporter": "python",
   "pygments_lexer": "ipython3",
   "version": "3.7.3"
  }
 },
 "nbformat": 4,
 "nbformat_minor": 2
}
